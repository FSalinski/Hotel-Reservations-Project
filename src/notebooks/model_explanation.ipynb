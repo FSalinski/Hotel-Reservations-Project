{
 "cells": [
  {
   "cell_type": "markdown",
   "metadata": {},
   "source": [
    "# XAI\n",
    "We'll try to explain how the model works by finding the most important features. We'll use the SHAP library to achieve this."
   ]
  },
  {
   "cell_type": "code",
   "execution_count": 1,
   "metadata": {},
   "outputs": [
    {
     "name": "stderr",
     "output_type": "stream",
     "text": [
      "IProgress not found. Please update jupyter and ipywidgets. See https://ipywidgets.readthedocs.io/en/stable/user_install.html\n"
     ]
    }
   ],
   "source": [
    "import pickle\n",
    "import numpy as np\n",
    "import pandas as pd\n",
    "import matplotlib.pyplot as plt\n",
    "import seaborn as sns\n",
    "import shap\n",
    "\n",
    "import warnings\n",
    "warnings.filterwarnings('ignore')"
   ]
  },
  {
   "cell_type": "code",
   "execution_count": 2,
   "metadata": {},
   "outputs": [],
   "source": [
    "train = pd.read_csv('../../data/final_train.csv')\n",
    "test = pd.read_csv('../../data/final_test.csv')\n",
    "\n",
    "X_train = train.drop(columns=['booking_status'])\n",
    "y_train = train['booking_status']\n",
    "X_test = test.drop(columns=['booking_status'])\n",
    "y_test = test['booking_status']"
   ]
  },
  {
   "cell_type": "code",
   "execution_count": 3,
   "metadata": {},
   "outputs": [],
   "source": [
    "with open('../models/random_forest_final.pkl', 'rb') as f:\n",
    "    model = pickle.load(f)"
   ]
  },
  {
   "cell_type": "code",
   "execution_count": 4,
   "metadata": {},
   "outputs": [
    {
     "name": "stderr",
     "output_type": "stream",
     "text": [
      "100%|===================| 50783/50784 [56:35<00:00]        "
     ]
    }
   ],
   "source": [
    "# Create a SHAP explainer\n",
    "explainer = shap.TreeExplainer(model, X_train, check_additivity=False)\n",
    "\n",
    "# Calculate SHAP values\n",
    "shap_values = explainer(X_train, check_additivity=False)"
   ]
  },
  {
   "cell_type": "code",
   "execution_count": 5,
   "metadata": {},
   "outputs": [],
   "source": [
    "# Save the SHAP values\n",
    "with open('../../data/shap_values.pkl', 'wb') as f:\n",
    "    pickle.dump(shap_values, f)"
   ]
  },
  {
   "cell_type": "code",
   "execution_count": 4,
   "metadata": {},
   "outputs": [],
   "source": [
    "# Load the SHAP values\n",
    "with open('../../data/shap_values.pkl', 'rb') as f:\n",
    "    shap_values = pickle.load(f)"
   ]
  },
  {
   "cell_type": "markdown",
   "metadata": {},
   "source": [
    "## Most important features\n",
    "We'll use SHAP values to determine the most important features for the model."
   ]
  },
  {
   "cell_type": "code",
   "execution_count": 5,
   "metadata": {},
   "outputs": [
    {
     "data": {
      "text/html": [
       "<div>\n",
       "<style scoped>\n",
       "    .dataframe tbody tr th:only-of-type {\n",
       "        vertical-align: middle;\n",
       "    }\n",
       "\n",
       "    .dataframe tbody tr th {\n",
       "        vertical-align: top;\n",
       "    }\n",
       "\n",
       "    .dataframe thead th {\n",
       "        text-align: right;\n",
       "    }\n",
       "</style>\n",
       "<table border=\"1\" class=\"dataframe\">\n",
       "  <thead>\n",
       "    <tr style=\"text-align: right;\">\n",
       "      <th></th>\n",
       "      <th>mean_shap_value</th>\n",
       "    </tr>\n",
       "  </thead>\n",
       "  <tbody>\n",
       "    <tr>\n",
       "      <th>lead_time</th>\n",
       "      <td>0.014480</td>\n",
       "    </tr>\n",
       "    <tr>\n",
       "      <th>market_segment_type_Online</th>\n",
       "      <td>0.006199</td>\n",
       "    </tr>\n",
       "    <tr>\n",
       "      <th>market_segment_type_Offline</th>\n",
       "      <td>0.002593</td>\n",
       "    </tr>\n",
       "    <tr>\n",
       "      <th>type_of_meal_plan_Not_Selected</th>\n",
       "      <td>0.000223</td>\n",
       "    </tr>\n",
       "    <tr>\n",
       "      <th>market_segment_type_Complementary</th>\n",
       "      <td>0.000060</td>\n",
       "    </tr>\n",
       "    <tr>\n",
       "      <th>market_segment_type_Aviation</th>\n",
       "      <td>0.000024</td>\n",
       "    </tr>\n",
       "    <tr>\n",
       "      <th>no_of_previous_cancellations</th>\n",
       "      <td>0.000008</td>\n",
       "    </tr>\n",
       "    <tr>\n",
       "      <th>type_of_meal_plan_Meal_Plan_3</th>\n",
       "      <td>0.000002</td>\n",
       "    </tr>\n",
       "    <tr>\n",
       "      <th>free_booking</th>\n",
       "      <td>-0.000109</td>\n",
       "    </tr>\n",
       "    <tr>\n",
       "      <th>arrival_month_sin</th>\n",
       "      <td>-0.000125</td>\n",
       "    </tr>\n",
       "    <tr>\n",
       "      <th>no_of_children</th>\n",
       "      <td>-0.000258</td>\n",
       "    </tr>\n",
       "    <tr>\n",
       "      <th>no_of_previous_bookings_not_canceled</th>\n",
       "      <td>-0.000345</td>\n",
       "    </tr>\n",
       "    <tr>\n",
       "      <th>type_of_meal_plan_Meal_Plan_2</th>\n",
       "      <td>-0.000537</td>\n",
       "    </tr>\n",
       "    <tr>\n",
       "      <th>room_type_reserved2</th>\n",
       "      <td>-0.000598</td>\n",
       "    </tr>\n",
       "    <tr>\n",
       "      <th>repeated_guest</th>\n",
       "      <td>-0.000614</td>\n",
       "    </tr>\n",
       "    <tr>\n",
       "      <th>required_car_parking_space</th>\n",
       "      <td>-0.000706</td>\n",
       "    </tr>\n",
       "    <tr>\n",
       "      <th>type_of_meal_plan_Meal_Plan_1</th>\n",
       "      <td>-0.000851</td>\n",
       "    </tr>\n",
       "    <tr>\n",
       "      <th>market_segment_type_Corporate</th>\n",
       "      <td>-0.001156</td>\n",
       "    </tr>\n",
       "    <tr>\n",
       "      <th>no_of_weekend_nights</th>\n",
       "      <td>-0.001577</td>\n",
       "    </tr>\n",
       "    <tr>\n",
       "      <th>no_of_adults</th>\n",
       "      <td>-0.001736</td>\n",
       "    </tr>\n",
       "    <tr>\n",
       "      <th>arrival_year_cos</th>\n",
       "      <td>-0.001816</td>\n",
       "    </tr>\n",
       "    <tr>\n",
       "      <th>total_price</th>\n",
       "      <td>-0.001994</td>\n",
       "    </tr>\n",
       "    <tr>\n",
       "      <th>no_of_week_nights</th>\n",
       "      <td>-0.002089</td>\n",
       "    </tr>\n",
       "    <tr>\n",
       "      <th>total_guests</th>\n",
       "      <td>-0.002351</td>\n",
       "    </tr>\n",
       "    <tr>\n",
       "      <th>arrival_year_sin</th>\n",
       "      <td>-0.002541</td>\n",
       "    </tr>\n",
       "    <tr>\n",
       "      <th>arrival_date_cos</th>\n",
       "      <td>-0.002886</td>\n",
       "    </tr>\n",
       "    <tr>\n",
       "      <th>arrival_date_sin</th>\n",
       "      <td>-0.003471</td>\n",
       "    </tr>\n",
       "    <tr>\n",
       "      <th>avg_price_per_room</th>\n",
       "      <td>-0.003953</td>\n",
       "    </tr>\n",
       "    <tr>\n",
       "      <th>arrival_month_cos</th>\n",
       "      <td>-0.004156</td>\n",
       "    </tr>\n",
       "    <tr>\n",
       "      <th>no_of_special_requests</th>\n",
       "      <td>-0.021045</td>\n",
       "    </tr>\n",
       "  </tbody>\n",
       "</table>\n",
       "</div>"
      ],
      "text/plain": [
       "                                      mean_shap_value\n",
       "lead_time                                    0.014480\n",
       "market_segment_type_Online                   0.006199\n",
       "market_segment_type_Offline                  0.002593\n",
       "type_of_meal_plan_Not_Selected               0.000223\n",
       "market_segment_type_Complementary            0.000060\n",
       "market_segment_type_Aviation                 0.000024\n",
       "no_of_previous_cancellations                 0.000008\n",
       "type_of_meal_plan_Meal_Plan_3                0.000002\n",
       "free_booking                                -0.000109\n",
       "arrival_month_sin                           -0.000125\n",
       "no_of_children                              -0.000258\n",
       "no_of_previous_bookings_not_canceled        -0.000345\n",
       "type_of_meal_plan_Meal_Plan_2               -0.000537\n",
       "room_type_reserved2                         -0.000598\n",
       "repeated_guest                              -0.000614\n",
       "required_car_parking_space                  -0.000706\n",
       "type_of_meal_plan_Meal_Plan_1               -0.000851\n",
       "market_segment_type_Corporate               -0.001156\n",
       "no_of_weekend_nights                        -0.001577\n",
       "no_of_adults                                -0.001736\n",
       "arrival_year_cos                            -0.001816\n",
       "total_price                                 -0.001994\n",
       "no_of_week_nights                           -0.002089\n",
       "total_guests                                -0.002351\n",
       "arrival_year_sin                            -0.002541\n",
       "arrival_date_cos                            -0.002886\n",
       "arrival_date_sin                            -0.003471\n",
       "avg_price_per_room                          -0.003953\n",
       "arrival_month_cos                           -0.004156\n",
       "no_of_special_requests                      -0.021045"
      ]
     },
     "execution_count": 5,
     "metadata": {},
     "output_type": "execute_result"
    }
   ],
   "source": [
    "# Computing mean SHAP values\n",
    "shap_values = shap_values.values\n",
    "mean_shap_values = shap_values.mean(axis=0)\n",
    "mean_shap_values_class_1 = mean_shap_values[:, 1] # Selecting the mean SHAP values for class 1\n",
    "mean_shap_df_class_1 = pd.DataFrame(mean_shap_values_class_1, index=X_train.columns, columns=['mean_shap_value'])\n",
    "mean_shap_df_class_1 = mean_shap_df_class_1.sort_values(by='mean_shap_value', ascending=False)\n",
    "mean_shap_df_class_1"
   ]
  },
  {
   "cell_type": "code",
   "execution_count": 6,
   "metadata": {},
   "outputs": [
    {
     "data": {
      "image/png": "[encoded data removed]",
      "text/plain": [
       "<Figure size 1000x600 with 1 Axes>"
      ]
     },
     "metadata": {},
     "output_type": "display_data"
    }
   ],
   "source": [
    "# Plot top 10 features (absolute SHAP values)\n",
    "abs_mean_shap_df = mean_shap_df_class_1.abs().sort_values(by='mean_shap_value', ascending=False)\n",
    "top_10_idx = abs_mean_shap_df.index[:10]\n",
    "top_10_shap_values = mean_shap_df_class_1.loc[top_10_idx]\n",
    "\n",
    "plt.figure(figsize=(10, 6))\n",
    "sns.barplot(x='mean_shap_value', y=top_10_shap_values.index, data=top_10_shap_values, color='skyblue')\n",
    "plt.title('Top 10 Features by Absolute Mean SHAP Value (For Class 1 - Booking Cancelled)')\n",
    "plt.xlabel('Mean SHAP Value')\n",
    "plt.ylabel('Feature')\n",
    "plt.show()"
   ]
  },
  {
   "cell_type": "markdown",
   "metadata": {},
   "source": [
    "On the chart we can see that the most important features are:\n",
    "- `no_pf_special_requests` - number of special requests\n",
    "- `lead_time` - number of days between booking and arrival\n",
    "- `market_segment_type_Online` whether the booking was made via online market\n",
    "\n",
    "Lead time being one of the most important features is not surprising. The longer the lead time, the more likely the booking is to be canceled. \n",
    "\n",
    "The most important feature is the number of special requests. This information could be used by the hotel, for example, to offer some discounts to customers who have more special requests. \n",
    "\n",
    "The third most important feature is the market segment. The online bookings are more likely to be canceled. This could be due to the fact that online bookings are easier to make and cancel, so the customers are more likely to change their minds. The hotel could try to improve its online marketing and booking system to reduce the number of cancellations."
   ]
  }
 ],
 "metadata": {
  "kernelspec": {
   "display_name": "ML",
   "language": "python",
   "name": "python3"
  },
  "language_info": {
   "codemirror_mode": {
    "name": "ipython",
    "version": 3
   },
   "file_extension": ".py",
   "mimetype": "text/x-python",
   "name": "python",
   "nbconvert_exporter": "python",
   "pygments_lexer": "ipython3",
   "version": "3.10.12"
  }
 },
 "nbformat": 4,
 "nbformat_minor": 2
}
